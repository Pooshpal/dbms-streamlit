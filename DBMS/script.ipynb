{
 "cells": [
  {
   "cell_type": "code",
   "execution_count": 2,
   "metadata": {},
   "outputs": [],
   "source": [
    "import mysql.connector as mysq\n",
    "\n",
    "mydb = mysq.connect(\n",
    "host=\"localhost\",\n",
    "user=\"root\",\n",
    "password=\"password\",\n",
    "database=\"dbms\"\n",
    ")\n",
    "mycursor = mydb.cursor()"
   ]
  },
  {
   "attachments": {},
   "cell_type": "markdown",
   "metadata": {},
   "source": [
    "# DDL Statements \n",
    "-       Create tables:\n",
    ">1.           User\n",
    ">2.           Product\n",
    ">3.           Reward\n",
    ">4.           Cart\n",
    ">5.           Cart Item"
   ]
  },
  {
   "cell_type": "code",
   "execution_count": 23,
   "metadata": {},
   "outputs": [],
   "source": [
    "s1 = \"\"\"CREATE TABLE User (\n",
    "    Name varchar(255) NOT NULL,\n",
    "    Age int,\n",
    "    Number varchar(255),\n",
    "    Visits int,\n",
    "    UNIQUE (Name),\n",
    "    PRIMARY KEY (Name));\"\"\"\n",
    "\n",
    "s2 = \"\"\"CREATE TABLE Product (\n",
    "    Name varchar(255) NOT NULL,\n",
    "    Price int,\n",
    "    Supplier varchar(255),\n",
    "    UNIQUE (Name),\n",
    "    PRIMARY KEY (Name));\"\"\"\n",
    "\n",
    "s3 = \"\"\"CREATE TABLE Reward (\n",
    "    Token varchar(255) NOT NULL,\n",
    "    Discount int,\n",
    "    User_Name varchar(255),\n",
    "    Date_Allocated date,\n",
    "    Date_Claimed date,\n",
    "    FOREIGN KEY (User_Name) REFERENCES User(Name),\n",
    "    UNIQUE (Token),\n",
    "    PRIMARY KEY (Token));\"\"\"\n",
    "\n",
    "s4 = \"\"\"CREATE TABLE Cart (\n",
    "    CartID varchar(255) NOT NULL,\n",
    "    Total int,\n",
    "    User_Name varchar(255),\n",
    "    Reward_Allocated varchar(255),\n",
    "    Reward_Claimed varchar(255),\n",
    "    FOREIGN KEY (User_Name) REFERENCES User(Name),\n",
    "    FOREIGN KEY (Reward_Allocated) REFERENCES Reward(Token),\n",
    "    FOREIGN KEY (Reward_Claimed) REFERENCES Reward(Token),\n",
    "    UNIQUE (CartID),\n",
    "    PRIMARY KEY (CartID));\"\"\"\n",
    "\n",
    "s5 = \"\"\"CREATE TABLE CartItem (\n",
    "    Quantity int,\n",
    "    SubTotal int,\n",
    "    Product_Name varchar(255),\n",
    "    CartID varchar(255),\n",
    "    FOREIGN KEY (CartID) REFERENCES Cart(CartID),\n",
    "    FOREIGN KEY (Product_Name) REFERENCES Product(Name));\"\"\"\n"
   ]
  },
  {
   "cell_type": "code",
   "execution_count": 28,
   "metadata": {},
   "outputs": [],
   "source": [
    "#print(s5)\n",
    "mycursor.execute(s5)\n",
    "mydb.commit()"
   ]
  },
  {
   "attachments": {},
   "cell_type": "markdown",
   "metadata": {},
   "source": [
    "# Populate "
   ]
  },
  {
   "cell_type": "code",
   "execution_count": 37,
   "metadata": {},
   "outputs": [],
   "source": [
    "def add_user(name:str,age:int,number:str,visits:int):\n",
    "    mycursor.execute(\"INSERT INTO User VALUES (%s,%s,%s,%s);\",(name,age, number, visits))\n",
    "    print(\"INSERT INTO User VALUES (%s,%s,%s,%s);\",(name,age, number, visits))\n",
    "    mydb.commit()\n",
    "\n",
    "def add_product(name:str,price:int,supplier:str):\n",
    "    mycursor.execute(\"INSERT INTO Product VALUES (%s,%s,%s);\",(name,price,supplier))\n",
    "    print(\"INSERT INTO Product VALUES (%s,%s,%s);\",(name,price,supplier))\n",
    "    mydb.commit()\n",
    "\n",
    "def add_reward(token:str,discount:int,username:str,date_allocated,date_claimed):\n",
    "    mycursor.execute(\"INSERT INTO Reward VALUES (%s,%s,%s,%s,%s);\",(token,discount,username,date_allocated,date_claimed))\n",
    "    print(\"INSERT INTO Reward VALUES (%s,%s,%s,%s,%s);\",(token,discount,username,date_allocated,date_claimed))\n",
    "    mydb.commit()\n",
    "\n",
    "def add_cart(cartid:str,total:int,username:str,reward_allocated,reward_claimed):\n",
    "    mycursor.execute(\"INSERT INTO Cart VALUES (%s,%s,%s,%s,%s);\",(cartid,total,username,reward_allocated,reward_claimed))\n",
    "    print(\"INSERT INTO Cart VALUES (%s,%s,%s,%s,%s);\",(cartid,total,username,reward_allocated,reward_claimed))\n",
    "    mydb.commit()\n",
    "\n",
    "def add_cartitem(quantity:int,subtotal:int,productName:str,cartid:str):\n",
    "    mycursor.execute(\"INSERT INTO CartItem VALUES (%s,%s,%s,%s);\",(quantity,subtotal,productName,cartid))\n",
    "    print(\"INSERT INTO CartItem VALUES (%s,%s,%s,%s);\",(quantity,subtotal,productName,cartid))\n",
    "    mydb.commit()"
   ]
  },
  {
   "attachments": {},
   "cell_type": "markdown",
   "metadata": {},
   "source": [
    "### Populate Users"
   ]
  },
  {
   "cell_type": "code",
   "execution_count": 30,
   "metadata": {},
   "outputs": [
    {
     "name": "stdout",
     "output_type": "stream",
     "text": [
      "INSERT INTO User VALUES (%s,%s,%s,%s); ('pooshpal', 21, '8945616588', 4)\n",
      "INSERT INTO User VALUES (%s,%s,%s,%s); ('christopher', 42, '5618653205', 2)\n",
      "INSERT INTO User VALUES (%s,%s,%s,%s); ('anita', 16, '1313586153', 0)\n",
      "INSERT INTO User VALUES (%s,%s,%s,%s); ('susie', 23, '8135186153', 4)\n",
      "INSERT INTO User VALUES (%s,%s,%s,%s); ('rina', 24, '1654322255', 8)\n",
      "INSERT INTO User VALUES (%s,%s,%s,%s); ('ramesh', 32, '8965552333', 1)\n",
      "INSERT INTO User VALUES (%s,%s,%s,%s); ('manjunath', 15, '8946513213', 4)\n",
      "INSERT INTO User VALUES (%s,%s,%s,%s); ('sid', 17, '6513206533', 3)\n",
      "INSERT INTO User VALUES (%s,%s,%s,%s); ('Rradhika', 36, '8946153210', 2)\n",
      "INSERT INTO User VALUES (%s,%s,%s,%s); ('suresh', 41, '6815351655', 5)\n"
     ]
    }
   ],
   "source": [
    "add_user(\"pooshpal\",21,\"8945616588\",4)\n",
    "add_user(\"christopher\",42,\"5618653205\",2)\n",
    "add_user(\"anita\",16,\"1313586153\",0)\n",
    "add_user(\"susie\",23,\"8135186153\",4)\n",
    "add_user(\"rina\",24,\"1654322255\",8)\n",
    "add_user(\"ramesh\",32,\"8965552333\",1)\n",
    "add_user(\"manjunath\",15,\"8946513213\",4)\n",
    "add_user(\"sid\",17,\"6513206533\",3)\n",
    "add_user(\"radhika\",36,\"8946153210\",2)\n",
    "add_user(\"suresh\",41,\"6815351655\",5)"
   ]
  },
  {
   "cell_type": "code",
   "execution_count": 31,
   "metadata": {},
   "outputs": [
    {
     "name": "stdout",
     "output_type": "stream",
     "text": [
      "INSERT INTO Product VALUES (%s,%s,%s); ('Apple', 82, 'K.G Warehouse')\n",
      "INSERT INTO Product VALUES (%s,%s,%s); ('Banana', 25, 'N.M Warehouse')\n",
      "INSERT INTO Product VALUES (%s,%s,%s); ('Potato', 13, 'A.M Warehouse')\n",
      "INSERT INTO Product VALUES (%s,%s,%s); ('Tomato', 26, 'K.G Warehouse')\n",
      "INSERT INTO Product VALUES (%s,%s,%s); ('Spinach', 80, 'N.G Warehouse')\n",
      "INSERT INTO Product VALUES (%s,%s,%s); ('Cucumber', 62, 'K.G Warehouse')\n",
      "INSERT INTO Product VALUES (%s,%s,%s); ('Strawberry', 120, 'N.M Warehouse')\n",
      "INSERT INTO Product VALUES (%s,%s,%s); ('Watermelon', 90, 'A.M Warehouse')\n"
     ]
    }
   ],
   "source": [
    "add_product(\"Apple\",82,\"K.G Warehouse\")\n",
    "add_product(\"Banana\",25,\"N.M Warehouse\")\n",
    "add_product(\"Potato\",13,\"A.M Warehouse\")\n",
    "add_product(\"Tomato\",26,\"K.G Warehouse\")\n",
    "add_product(\"Spinach\",80,\"N.G Warehouse\")\n",
    "add_product(\"Cucumber\",62,\"K.G Warehouse\")\n",
    "add_product(\"Strawberry\",120,\"N.M Warehouse\")\n",
    "add_product(\"Watermelon\",90,\"A.M Warehouse\")"
   ]
  },
  {
   "cell_type": "code",
   "execution_count": 36,
   "metadata": {},
   "outputs": [
    {
     "name": "stdout",
     "output_type": "stream",
     "text": [
      "INSERT INTO Reward VALUES (%s,%s,%s,%s,%s); ('XY%5736', 4, 'pooshpal', datetime.date(2020, 11, 1), datetime.date(2021, 1, 15))\n",
      "INSERT INTO Reward VALUES (%s,%s,%s,%s,%s); ('AC%2134', 9, 'anita', datetime.date(2020, 2, 15), datetime.date(2021, 1, 15))\n",
      "INSERT INTO Reward VALUES (%s,%s,%s,%s,%s); ('DF%8656', 5, 'susie', datetime.date(2020, 3, 21), datetime.date(2021, 11, 11))\n",
      "INSERT INTO Reward VALUES (%s,%s,%s,%s,%s); ('DF%8465', 20, 'rina', datetime.date(2020, 4, 12), datetime.date(2021, 9, 1))\n",
      "INSERT INTO Reward VALUES (%s,%s,%s,%s,%s); ('RG%2315', 3, 'pooshpal', datetime.date(2020, 5, 1), None)\n",
      "INSERT INTO Reward VALUES (%s,%s,%s,%s,%s); ('RG%2131', 6, 'ramesh', datetime.date(2020, 6, 16), None)\n",
      "INSERT INTO Reward VALUES (%s,%s,%s,%s,%s); ('GN%0102', 11, 'sid', datetime.date(2020, 7, 15), None)\n",
      "INSERT INTO Reward VALUES (%s,%s,%s,%s,%s); ('GN%8515', 17, 'anita', datetime.date(2020, 8, 11), None)\n",
      "INSERT INTO Reward VALUES (%s,%s,%s,%s,%s); ('UK%9620', 32, 'suresh', datetime.date(2020, 9, 10), None)\n",
      "INSERT INTO Reward VALUES (%s,%s,%s,%s,%s); ('UK%3156', 20, 'pooshpal', datetime.date(2020, 10, 1), None)\n"
     ]
    }
   ],
   "source": [
    "import datetime\n",
    "x = datetime.date(2020, 5, 17)\n",
    "add_reward(\"XY%5736\",4,\"pooshpal\",datetime.date(2020, 11, 1),datetime.date(2021, 1, 15))\n",
    "add_reward(\"AC%2134\",9,\"anita\",datetime.date(2020, 2, 15),datetime.date(2021, 1, 15))\n",
    "add_reward(\"DF%8656\",5,\"susie\",datetime.date(2020, 3, 21),datetime.date(2021, 11, 11))\n",
    "add_reward(\"DF%8465\",20,\"rina\",datetime.date(2020, 4, 12),datetime.date(2021, 9, 1))\n",
    "add_reward(\"RG%2315\",3,\"pooshpal\",datetime.date(2020, 5, 1),None)\n",
    "add_reward(\"RG%2131\",6,\"ramesh\",datetime.date(2020, 6, 16),None)\n",
    "add_reward(\"GN%0102\",11,\"sid\",datetime.date(2020, 7, 15),None)\n",
    "add_reward(\"GN%8515\",17,\"anita\",datetime.date(2020, 8, 11),None)\n",
    "add_reward(\"UK%9620\",32,\"suresh\",datetime.date(2020, 9, 10),None)\n",
    "add_reward(\"UK%3156\",20,\"pooshpal\",datetime.date(2020, 10, 1),None)"
   ]
  },
  {
   "cell_type": "code",
   "execution_count": 43,
   "metadata": {},
   "outputs": [
    {
     "name": "stdout",
     "output_type": "stream",
     "text": [
      "INSERT INTO Cart VALUES (%s,%s,%s,%s,%s); ('X86', 450, 'pooshpal', 'UK%3156', None)\n",
      "INSERT INTO Cart VALUES (%s,%s,%s,%s,%s); ('X45', 250, 'anita', 'AC%2134', None)\n",
      "INSERT INTO Cart VALUES (%s,%s,%s,%s,%s); ('X81', 150, 'anita', 'GN%8515', 'AC%2134')\n",
      "INSERT INTO Cart VALUES (%s,%s,%s,%s,%s); ('X02', 300, 'susie', 'DF%8656', None)\n",
      "INSERT INTO Cart VALUES (%s,%s,%s,%s,%s); ('X55', 150, 'susie', None, 'DF%8656')\n",
      "INSERT INTO Cart VALUES (%s,%s,%s,%s,%s); ('X65', 180, 'rina', 'DF%8465', None)\n",
      "INSERT INTO Cart VALUES (%s,%s,%s,%s,%s); ('X68', 320, 'rina', None, 'DF%8465')\n",
      "INSERT INTO Cart VALUES (%s,%s,%s,%s,%s); ('X84', 180, 'ramesh', 'RG%2131', None)\n",
      "INSERT INTO Cart VALUES (%s,%s,%s,%s,%s); ('X48', 150, 'sid', 'XY%5736', None)\n",
      "INSERT INTO Cart VALUES (%s,%s,%s,%s,%s); ('X99', 150, 'suresh', 'UK%9620', None)\n"
     ]
    }
   ],
   "source": [
    "add_cart(\"X01\",150,\"pooshpal\",\"XY%5736\",None)\n",
    "add_cart(\"X85\",170,\"pooshpal\",\"RG%2315\",\"XY%5736\")\n",
    "add_cart(\"X25\",100,\"pooshpal\",\"XY%5736\",None)\n",
    "add_cart(\"X86\",450,\"pooshpal\",\"UK%3156\",None)\n",
    "add_cart(\"X45\",250,\"anita\",\"AC%2134\",None)\n",
    "add_cart(\"X81\",150,\"anita\",\"GN%8515\",\"AC%2134\")\n",
    "add_cart(\"X02\",300,\"susie\",\"DF%8656\",None)\n",
    "add_cart(\"X55\",150,\"susie\",None,\"DF%8656\")\n",
    "add_cart(\"X65\",180,\"rina\",\"DF%8465\",None)\n",
    "add_cart(\"X68\",320,\"rina\",None,\"DF%8465\")\n",
    "add_cart(\"X84\",180,\"ramesh\",\"RG%2131\",None)\n",
    "add_cart(\"X48\",150,\"sid\",\"XY%5736\",None)\n",
    "add_cart(\"X99\",150,\"suresh\",\"UK%9620\",None)"
   ]
  },
  {
   "cell_type": "code",
   "execution_count": 44,
   "metadata": {},
   "outputs": [
    {
     "name": "stdout",
     "output_type": "stream",
     "text": [
      "INSERT INTO CartItem VALUES (%s,%s,%s,%s); (2, 164, 'Apple', 'X01')\n",
      "INSERT INTO CartItem VALUES (%s,%s,%s,%s); (1, 13, 'Potato', 'X01')\n",
      "INSERT INTO CartItem VALUES (%s,%s,%s,%s); (3, 75, 'Banana', 'X01')\n",
      "INSERT INTO CartItem VALUES (%s,%s,%s,%s); (1, 62, 'Cucumber', 'X85')\n",
      "INSERT INTO CartItem VALUES (%s,%s,%s,%s); (2, 164, 'Apple', 'X85')\n",
      "INSERT INTO CartItem VALUES (%s,%s,%s,%s); (2, 240, 'Strawberry', 'X86')\n",
      "INSERT INTO CartItem VALUES (%s,%s,%s,%s); (1, 62, 'Apple', 'X86')\n",
      "INSERT INTO CartItem VALUES (%s,%s,%s,%s); (4, 248, 'Apple', 'X25')\n",
      "INSERT INTO CartItem VALUES (%s,%s,%s,%s); (2, 180, 'Watermelon', 'X45')\n",
      "INSERT INTO CartItem VALUES (%s,%s,%s,%s); (2, 160, 'Spinach', 'X45')\n",
      "INSERT INTO CartItem VALUES (%s,%s,%s,%s); (2, 164, 'Apple', 'X81')\n",
      "INSERT INTO CartItem VALUES (%s,%s,%s,%s); (2, 50, 'Banana', 'X81')\n",
      "INSERT INTO CartItem VALUES (%s,%s,%s,%s); (1, 82, 'Apple', 'X02')\n",
      "INSERT INTO CartItem VALUES (%s,%s,%s,%s); (5, 125, 'Banana', 'X55')\n",
      "INSERT INTO CartItem VALUES (%s,%s,%s,%s); (2, 52, 'Tomato', 'X55')\n",
      "INSERT INTO CartItem VALUES (%s,%s,%s,%s); (4, 104, 'Tomato', 'X65')\n",
      "INSERT INTO CartItem VALUES (%s,%s,%s,%s); (2, 164, 'Apple', 'X65')\n",
      "INSERT INTO CartItem VALUES (%s,%s,%s,%s); (2, 52, 'Tomato', 'X68')\n",
      "INSERT INTO CartItem VALUES (%s,%s,%s,%s); (2, 164, 'Apple', 'X68')\n",
      "INSERT INTO CartItem VALUES (%s,%s,%s,%s); (2, 50, 'Banana', 'X68')\n",
      "INSERT INTO CartItem VALUES (%s,%s,%s,%s); (2, 240, 'Strawberry', 'X84')\n",
      "INSERT INTO CartItem VALUES (%s,%s,%s,%s); (2, 164, 'Apple', 'X84')\n",
      "INSERT INTO CartItem VALUES (%s,%s,%s,%s); (2, 164, 'Apple', 'X45')\n",
      "INSERT INTO CartItem VALUES (%s,%s,%s,%s); (10, 130, 'Potato', 'X99')\n"
     ]
    }
   ],
   "source": [
    "add_cartitem(2,164,\"Apple\",\"X01\")\n",
    "add_cartitem(1,13,\"Potato\",\"X01\")\n",
    "add_cartitem(3,75,\"Banana\",\"X01\")\n",
    "\n",
    "add_cartitem(1,62,\"Cucumber\",\"X85\")\n",
    "add_cartitem(2,164,\"Apple\",\"X85\")\n",
    "\n",
    "add_cartitem(2,240,\"Strawberry\",\"X86\")\n",
    "add_cartitem(1,62,\"Apple\",\"X86\")\n",
    "\n",
    "add_cartitem(4,248,\"Apple\",\"X25\")\n",
    "\n",
    "add_cartitem(2,180,\"Watermelon\",\"X45\")\n",
    "add_cartitem(2,160,\"Spinach\",\"X45\")\n",
    "\n",
    "add_cartitem(2,164,\"Apple\",\"X81\")\n",
    "add_cartitem(2,50,\"Banana\",\"X81\")\n",
    "\n",
    "add_cartitem(1,82,\"Apple\",\"X02\")\n",
    "\n",
    "add_cartitem(5,125,\"Banana\",\"X55\")\n",
    "add_cartitem(2,52,\"Tomato\",\"X55\")\n",
    "\n",
    "add_cartitem(4,104,\"Tomato\",\"X65\")\n",
    "add_cartitem(2,164,\"Apple\",\"X65\")\n",
    "\n",
    "add_cartitem(2,52,\"Tomato\",\"X68\")\n",
    "add_cartitem(2,164,\"Apple\",\"X68\")\n",
    "add_cartitem(2,50,\"Banana\",\"X68\")\n",
    "\n",
    "add_cartitem(2,240,\"Strawberry\",\"X84\")\n",
    "add_cartitem(2,164,\"Apple\",\"X84\")\n",
    "\n",
    "add_cartitem(2,164,\"Apple\",\"X45\")\n",
    "\n",
    "add_cartitem(10,130,\"Potato\",\"X99\")"
   ]
  },
  {
   "attachments": {},
   "cell_type": "markdown",
   "metadata": {},
   "source": [
    "# JOIN QUERY"
   ]
  },
  {
   "cell_type": "code",
   "execution_count": 4,
   "metadata": {},
   "outputs": [
    {
     "data": {
      "text/plain": [
       "[('anita', 16, '1313586153'),\n",
       " ('rina', 24, '1654322255'),\n",
       " ('susie', 23, '8135186153'),\n",
       " ('pooshpal', 21, '8945616588')]"
      ]
     },
     "execution_count": 4,
     "metadata": {},
     "output_type": "execute_result"
    }
   ],
   "source": [
    "# Show all users details who have claimed rewards\n",
    "\n",
    "mycursor.execute(\"SELECT DISTINCT(User.Name),User.Age,User.Number from User INNER JOIN Reward on User.Name = Reward.User_Name WHERE Reward.Date_Claimed IS NOT NULL;\")\n",
    "myresult = mycursor.fetchall()\n",
    "myresult\n"
   ]
  },
  {
   "cell_type": "code",
   "execution_count": 5,
   "metadata": {},
   "outputs": [
    {
     "data": {
      "text/plain": [
       "[('Apple', 10),\n",
       " ('Banana', 4),\n",
       " ('Cucumber', 1),\n",
       " ('Potato', 2),\n",
       " ('Spinach', 1),\n",
       " ('Strawberry', 2),\n",
       " ('Tomato', 3),\n",
       " ('Watermelon', 1)]"
      ]
     },
     "execution_count": 5,
     "metadata": {},
     "output_type": "execute_result"
    }
   ],
   "source": [
    "# Show products and number of units sold of each\n",
    "\n",
    "mycursor.execute(\"SELECT Product.Name, COUNT(*) FROM Product INNER JOIN CartItem ON Product.Name = CartItem.Product_Name GROUP BY Product.Name\")\n",
    "myresult = mycursor.fetchall()\n",
    "myresult"
   ]
  },
  {
   "cell_type": "code",
   "execution_count": 20,
   "metadata": {},
   "outputs": [
    {
     "data": {
      "text/plain": [
       "[('X01', Decimal('6')),\n",
       " ('X45', Decimal('6')),\n",
       " ('X55', Decimal('7')),\n",
       " ('X65', Decimal('6')),\n",
       " ('X68', Decimal('6')),\n",
       " ('X99', Decimal('10'))]"
      ]
     },
     "execution_count": 20,
     "metadata": {},
     "output_type": "execute_result"
    }
   ],
   "source": [
    "# show cartid of carts with more than 5 items\n",
    "\n",
    "mycursor.execute(\"SELECT Cart.CartID,SUM(CartItem.Quantity) AS count FROM Cart INNER JOIN CartItem ON Cart.CartID = CartItem.CartID GROUP BY CartID HAVING SUM(CartItem.Quantity)>5;\")\n",
    "myresult = mycursor.fetchall()\n",
    "myresult"
   ]
  },
  {
   "cell_type": "code",
   "execution_count": 22,
   "metadata": {},
   "outputs": [
    {
     "data": {
      "text/plain": [
       "[('anita', 0), ('rina', 8), ('susie', 4), ('pooshpal', 4), ('pooshpal', 4)]"
      ]
     },
     "execution_count": 22,
     "metadata": {},
     "output_type": "execute_result"
    }
   ],
   "source": [
    "# show number of visits of user who claims reward\n",
    "\n",
    "mycursor.execute(\"SELECT Name,Visits from User INNER JOIN Reward on User.Name = Reward.User_Name WHERE Reward.Date_Claimed IS NOT NULL;;\")\n",
    "myresult = mycursor.fetchall()\n",
    "myresult"
   ]
  },
  {
   "attachments": {},
   "cell_type": "markdown",
   "metadata": {},
   "source": [
    "# AGGREGATE"
   ]
  },
  {
   "cell_type": "code",
   "execution_count": 23,
   "metadata": {},
   "outputs": [
    {
     "data": {
      "text/plain": [
       "[('Apple', 10),\n",
       " ('Banana', 4),\n",
       " ('Cucumber', 1),\n",
       " ('Potato', 2),\n",
       " ('Spinach', 1),\n",
       " ('Strawberry', 2),\n",
       " ('Tomato', 3),\n",
       " ('Watermelon', 1)]"
      ]
     },
     "execution_count": 23,
     "metadata": {},
     "output_type": "execute_result"
    }
   ],
   "source": [
    "# Show products and number of units sold of each\n",
    "\n",
    "mycursor.execute(\"SELECT Product.Name, COUNT(*) FROM Product INNER JOIN CartItem ON Product.Name = CartItem.Product_Name GROUP BY Product.Name\")\n",
    "myresult = mycursor.fetchall()\n",
    "myresult"
   ]
  },
  {
   "cell_type": "code",
   "execution_count": 24,
   "metadata": {},
   "outputs": [
    {
     "data": {
      "text/plain": [
       "[('X01', Decimal('6')),\n",
       " ('X45', Decimal('6')),\n",
       " ('X55', Decimal('7')),\n",
       " ('X65', Decimal('6')),\n",
       " ('X68', Decimal('6')),\n",
       " ('X99', Decimal('10'))]"
      ]
     },
     "execution_count": 24,
     "metadata": {},
     "output_type": "execute_result"
    }
   ],
   "source": [
    "# show cartid of carts with more than 5 items\n",
    "\n",
    "mycursor.execute(\"SELECT Cart.CartID,SUM(CartItem.Quantity) AS count FROM Cart INNER JOIN CartItem ON Cart.CartID = CartItem.CartID GROUP BY CartID HAVING SUM(CartItem.Quantity)>5;\")\n",
    "myresult = mycursor.fetchall()\n",
    "myresult"
   ]
  },
  {
   "cell_type": "code",
   "execution_count": 25,
   "metadata": {},
   "outputs": [
    {
     "data": {
      "text/plain": [
       "[(Decimal('207.6923'),)]"
      ]
     },
     "execution_count": 25,
     "metadata": {},
     "output_type": "execute_result"
    }
   ],
   "source": [
    "# SHow avg bill amount\n",
    "\n",
    "mycursor.execute(\"SELECT AVG(Total) FROM Cart;\")\n",
    "myresult = mycursor.fetchall()\n",
    "myresult\n"
   ]
  },
  {
   "cell_type": "code",
   "execution_count": 26,
   "metadata": {},
   "outputs": [
    {
     "data": {
      "text/plain": [
       "[(Decimal('9.0000'),)]"
      ]
     },
     "execution_count": 26,
     "metadata": {},
     "output_type": "execute_result"
    }
   ],
   "source": [
    "# Avg discount % claimed\n",
    "\n",
    "mycursor.execute(\"SELECT AVG(Discount) FROM Reward WHERE Date_Claimed IS NOT NULL;\")\n",
    "myresult = mycursor.fetchall()\n",
    "myresult\n"
   ]
  },
  {
   "attachments": {},
   "cell_type": "markdown",
   "metadata": {},
   "source": [
    "# SET"
   ]
  },
  {
   "cell_type": "code",
   "execution_count": 27,
   "metadata": {},
   "outputs": [
    {
     "data": {
      "text/plain": [
       "[('Apple', 'K.G Warehouse'),\n",
       " ('Cucumber', 'K.G Warehouse'),\n",
       " ('Tomato', 'K.G Warehouse'),\n",
       " ('Potato', 'A.M Warehouse'),\n",
       " ('Watermelon', 'A.M Warehouse')]"
      ]
     },
     "execution_count": 27,
     "metadata": {},
     "output_type": "execute_result"
    }
   ],
   "source": [
    "# SHow all products from K.G Warehouse and A.M Warehouse\n",
    "\n",
    "mycursor.execute(\"SELECT Name,Supplier FROM Product WHERE Supplier = 'K.G Warehouse' UNION SELECT Name,Supplier FROM Product WHERE Supplier = 'A.M Warehouse'\")\n",
    "myresult = mycursor.fetchall()\n",
    "myresult"
   ]
  },
  {
   "cell_type": "code",
   "execution_count": 28,
   "metadata": {},
   "outputs": [
    {
     "data": {
      "text/plain": [
       "[('Banana', 25), ('Potato', 13), ('Tomato', 26), ('Strawberry', 120)]"
      ]
     },
     "execution_count": 28,
     "metadata": {},
     "output_type": "execute_result"
    }
   ],
   "source": [
    "# Show all products whose price is <50 or price > 100\n",
    "\n",
    "mycursor.execute(\"SELECT Name,Price FROM Product WHERE Price<50 UNION SELECT Name,Price FROM Product WHERE Price>100;\")\n",
    "myresult = mycursor.fetchall()\n",
    "myresult"
   ]
  },
  {
   "cell_type": "code",
   "execution_count": 30,
   "metadata": {},
   "outputs": [
    {
     "data": {
      "text/plain": [
       "[('anita', 16),\n",
       " ('manjunath', 15),\n",
       " ('pooshpal', 21),\n",
       " ('sid', 17),\n",
       " ('christopher', 42),\n",
       " ('suresh', 41)]"
      ]
     },
     "execution_count": 30,
     "metadata": {},
     "output_type": "execute_result"
    }
   ],
   "source": [
    "# Show all users with age < 22 or age> 40\n",
    "\n",
    "mycursor.execute(\"SELECT Name,Age FROM User WHERE Age<22 UNION SELECT Name,Age FROM User WHERE Age>40;\")\n",
    "myresult = mycursor.fetchall()\n",
    "myresult"
   ]
  },
  {
   "cell_type": "code",
   "execution_count": 33,
   "metadata": {},
   "outputs": [
    {
     "data": {
      "text/plain": [
       "[('manjunath',), ('pooshpal',), ('sid',)]"
      ]
     },
     "execution_count": 33,
     "metadata": {},
     "output_type": "execute_result"
    }
   ],
   "source": [
    "# Show all users with age < 22 and visits > 2\n",
    "\n",
    "mycursor.execute(\"SELECT Name FROM User WHERE Age<22 INTERSECT SELECT Name FROM User WHERE Visits>2;\")\n",
    "myresult = mycursor.fetchall()\n",
    "myresult"
   ]
  },
  {
   "attachments": {},
   "cell_type": "markdown",
   "metadata": {},
   "source": [
    "# SQL\n",
    "-       Functions\n",
    "-       Trigger\n",
    "-       Cursor"
   ]
  },
  {
   "attachments": {},
   "cell_type": "markdown",
   "metadata": {},
   "source": [
    "#### Gives the age of user given name"
   ]
  },
  {
   "cell_type": "code",
   "execution_count": null,
   "metadata": {},
   "outputs": [],
   "source": [
    "s6 = \"\"\"DELIMITER $$\n",
    "CREATE FUNCTION llcart  (name VARCHAR(255))\n",
    "RETURNS int\n",
    "BEGIN\n",
    "DECLARE ans int;\n",
    "SELECT Age INTO ans FROM User Where User.Name = name;\n",
    "RETURN ans;\n",
    "END;$$\n",
    "DELIMITER ;\"\"\"\n",
    "\n",
    "mycursor.execute(s6)\n",
    "mydb.commit()"
   ]
  },
  {
   "attachments": {},
   "cell_type": "markdown",
   "metadata": {},
   "source": [
    "### If a reward is already claimed, it gives error"
   ]
  },
  {
   "cell_type": "code",
   "execution_count": 49,
   "metadata": {},
   "outputs": [],
   "source": [
    "s7 = \"\"\"CREATE TRIGGER compcheck  \n",
    "BEFORE UPDATE \n",
    "ON Reward FOR EACH ROW  \n",
    "BEGIN  \n",
    "    DECLARE error_msg VARCHAR(255);  \n",
    "    declare count int;\n",
    "    SET error_msg = ('Already Claimed');  \n",
    "    IF (select Date_Claimed from Reward where Token = new.Token) IS NOT NULL THEN  \n",
    "    SIGNAL SQLSTATE '45000'   \n",
    "    SET MESSAGE_TEXT = error_msg;  \n",
    "    END IF;  \n",
    "END $$   \"\"\""
   ]
  },
  {
   "attachments": {},
   "cell_type": "markdown",
   "metadata": {},
   "source": [
    "### GEts all user names "
   ]
  },
  {
   "cell_type": "code",
   "execution_count": 51,
   "metadata": {},
   "outputs": [
    {
     "name": "stdout",
     "output_type": "stream",
     "text": [
      "UPDATE User SET Name = %s, Age = %s, Number = %s, Visits = %s WHERE Name = %s; ('pooshpal', 21, '8545759625', 6, 'pooshpal')\n"
     ]
    }
   ],
   "source": [
    "s8 = \"\"\"\n",
    "DELIMITER $$\n",
    "CREATE PROCEDURE users ()\n",
    "BEGIN \n",
    "DECLARE is_done INTEGER DEFAULT 0;\n",
    "DECLARE s_name VARCHAR(100) DEFAULT \"\";\n",
    "DECLARE name_list VARCHAR(4000) DEFAULT \"\";\n",
    "DECLARE stud_cursor CURSOR FOR SELECT Name FROM User;\n",
    "DECLARE CONTINUE HANDLER FOR NOT FOUND SET is_done = 1;\n",
    "OPEN stud_cursor;\n",
    "get_list: LOOP\n",
    "FETCH stud_cursor INTO s_name;\n",
    "IF is_done = 1 THEN \n",
    "LEAVE get_list;\n",
    "END IF;\n",
    "SET name_list = CONCAT(s_name, \";\", name_list);\n",
    "END LOOP get_list;\n",
    "SELECT name_list AS nm;\n",
    "CLOSE stud_cursor;\n",
    "END $$\n",
    "DELIMITER ;\"\"\""
   ]
  },
  {
   "cell_type": "code",
   "execution_count": 53,
   "metadata": {},
   "outputs": [
    {
     "ename": "ModuleNotFoundError",
     "evalue": "No module named 'database'",
     "output_type": "error",
     "traceback": [
      "\u001b[0;31m---------------------------------------------------------------------------\u001b[0m",
      "\u001b[0;31mModuleNotFoundError\u001b[0m                       Traceback (most recent call last)",
      "Cell \u001b[0;32mIn [53], line 1\u001b[0m\n\u001b[0;32m----> 1\u001b[0m \u001b[39mfrom\u001b[39;00m \u001b[39mdatabase\u001b[39;00m \u001b[39mimport\u001b[39;00m \u001b[39m*\u001b[39m \n",
      "\u001b[0;31mModuleNotFoundError\u001b[0m: No module named 'database'"
     ]
    }
   ],
   "source": []
  }
 ],
 "metadata": {
  "kernelspec": {
   "display_name": "Python 3",
   "language": "python",
   "name": "python3"
  },
  "language_info": {
   "codemirror_mode": {
    "name": "ipython",
    "version": 3
   },
   "file_extension": ".py",
   "mimetype": "text/x-python",
   "name": "python",
   "nbconvert_exporter": "python",
   "pygments_lexer": "ipython3",
   "version": "3.10.7 (main, Nov  2 2022, 18:49:29) [GCC 12.2.0]"
  },
  "orig_nbformat": 4,
  "vscode": {
   "interpreter": {
    "hash": "916dbcbb3f70747c44a77c7bcd40155683ae19c65e1c03b4aa3499c5328201f1"
   }
  }
 },
 "nbformat": 4,
 "nbformat_minor": 2
}
