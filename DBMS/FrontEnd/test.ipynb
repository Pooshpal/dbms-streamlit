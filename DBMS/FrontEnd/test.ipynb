{
 "cells": [
  {
   "cell_type": "code",
   "execution_count": 4,
   "metadata": {},
   "outputs": [],
   "source": [
    "from database import * \n",
    "import pandas as pd"
   ]
  },
  {
   "cell_type": "code",
   "execution_count": 19,
   "metadata": {},
   "outputs": [
    {
     "ename": "TypeError",
     "evalue": "'StringArray' object is not callable",
     "output_type": "error",
     "traceback": [
      "\u001b[0;31m---------------------------------------------------------------------------\u001b[0m",
      "\u001b[0;31mTypeError\u001b[0m                                 Traceback (most recent call last)",
      "Cell \u001b[0;32mIn [19], line 10\u001b[0m\n\u001b[1;32m      8\u001b[0m old_userNumber \u001b[39m=\u001b[39m df_new[\u001b[39m'\u001b[39m\u001b[39mNumber\u001b[39m\u001b[39m'\u001b[39m]\u001b[39m.\u001b[39mastype(\u001b[39m\"\u001b[39m\u001b[39mstring\u001b[39m\u001b[39m\"\u001b[39m)\n\u001b[1;32m      9\u001b[0m old_Visits \u001b[39m=\u001b[39m \u001b[39mint\u001b[39m(df_new[\u001b[39m'\u001b[39m\u001b[39mVisits\u001b[39m\u001b[39m'\u001b[39m])  \u001b[39m# type: ignore\u001b[39;00m\n\u001b[0;32m---> 10\u001b[0m display( \u001b[39mstr\u001b[39m(df_new[\u001b[39m'\u001b[39;49m\u001b[39mNumber\u001b[39;49m\u001b[39m'\u001b[39;49m]\u001b[39m.\u001b[39;49mastype(\u001b[39m\"\u001b[39;49m\u001b[39mstring\u001b[39;49m\u001b[39m\"\u001b[39;49m)\u001b[39m.\u001b[39;49mvalues()))\n\u001b[1;32m     11\u001b[0m \u001b[39mprint\u001b[39m(old_userAge,old_userName,old_userNumber,old_Visits)\n",
      "\u001b[0;31mTypeError\u001b[0m: 'StringArray' object is not callable"
     ]
    }
   ],
   "source": [
    "result = view_all_data('User')\n",
    "df = pd.DataFrame(result, columns=['Name','Age','Number','Visits'])\n",
    "list_of_users = [i for i in df['Name']]\n",
    "selected_user = 'anita'\n",
    "df_new = df.loc[df['Name'] == selected_user]\n",
    "old_userName = df_new['Name']\n",
    "old_userAge = int(df_new['Age'])  # type: ignore\n",
    "old_userNumber = df_new['Number'].astype(\"string\")\n",
    "old_Visits = int(df_new['Visits'])  # type: ignore\n",
    "display( str(df_new['Number'].astype(\"string\").values()))\n",
    "print(old_userAge,old_userName,old_userNumber,old_Visits)"
   ]
  }
 ],
 "metadata": {
  "kernelspec": {
   "display_name": "Python 3",
   "language": "python",
   "name": "python3"
  },
  "language_info": {
   "codemirror_mode": {
    "name": "ipython",
    "version": 3
   },
   "file_extension": ".py",
   "mimetype": "text/x-python",
   "name": "python",
   "nbconvert_exporter": "python",
   "pygments_lexer": "ipython3",
   "version": "3.10.7 (main, Nov  2 2022, 18:49:29) [GCC 12.2.0]"
  },
  "orig_nbformat": 4,
  "vscode": {
   "interpreter": {
    "hash": "916dbcbb3f70747c44a77c7bcd40155683ae19c65e1c03b4aa3499c5328201f1"
   }
  }
 },
 "nbformat": 4,
 "nbformat_minor": 2
}
